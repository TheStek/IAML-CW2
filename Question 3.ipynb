{
 "cells": [
  {
   "cell_type": "code",
   "execution_count": 1,
   "metadata": {},
   "outputs": [],
   "source": [
    "import numpy as np\n",
    "import pandas as pd\n",
    "import matplotlib.pyplot as plt\n",
    "\n",
    "import sys\n",
    "sys.path.append(\"../\")\n",
    "from helpers.iaml01cw2_helpers import load_CoVoST2\n",
    "\n",
    "\n",
    "Xtrn,Ytrn,Xtst,Ytst = load_CoVoST2(\"C:\\\\Users\\\\User\\\\Documents\\\\3. Third Year\\\\IAML\\\\IAML-CW2\\\\data\")\n"
   ]
  },
  {
   "cell_type": "code",
   "execution_count": 2,
   "metadata": {},
   "outputs": [
    {
     "name": "stderr",
     "output_type": "stream",
     "text": [
      "C:\\Users\\User\\anaconda3\\envs\\py3iaml\\lib\\site-packages\\sklearn\\utils\\__init__.py:4: DeprecationWarning: Using or importing the ABCs from 'collections' instead of from 'collections.abc' is deprecated since Python 3.3,and in 3.9 it will stop working\n",
      "  from collections import Sequence\n"
     ]
    },
    {
     "name": "stdout",
     "output_type": "stream",
     "text": [
      "Wall time: 9.61 s\n"
     ]
    },
    {
     "data": {
      "text/plain": [
       "KMeans(algorithm='auto', copy_x=True, init='k-means++', max_iter=300,\n",
       "    n_clusters=22, n_init=10, n_jobs=1, precompute_distances='auto',\n",
       "    random_state=1, tol=0.0001, verbose=0)"
      ]
     },
     "execution_count": 2,
     "metadata": {},
     "output_type": "execute_result"
    }
   ],
   "source": [
    "%%time\n",
    "\n",
    "from sklearn.cluster import KMeans\n",
    "\n",
    "kmeans = KMeans(22, random_state = 1)\n",
    "kmeans.fit(Xtrn)"
   ]
  },
  {
   "cell_type": "code",
   "execution_count": 3,
   "metadata": {},
   "outputs": [
    {
     "data": {
      "text/plain": [
       "38185.817"
      ]
     },
     "execution_count": 3,
     "metadata": {},
     "output_type": "execute_result"
    }
   ],
   "source": [
    "np.round(kmeans.inertia_, 4)"
   ]
  },
  {
   "cell_type": "code",
   "execution_count": 4,
   "metadata": {},
   "outputs": [
    {
     "data": {
      "text/plain": [
       "[(0, 1018),\n",
       " (1, 1125),\n",
       " (2, 1191),\n",
       " (3, 890),\n",
       " (4, 1162),\n",
       " (5, 1332),\n",
       " (6, 839),\n",
       " (7, 623),\n",
       " (8, 1400),\n",
       " (9, 838),\n",
       " (10, 659),\n",
       " (11, 1276),\n",
       " (12, 121),\n",
       " (13, 152),\n",
       " (14, 950),\n",
       " (15, 1971),\n",
       " (16, 1251),\n",
       " (17, 845),\n",
       " (18, 896),\n",
       " (19, 930),\n",
       " (20, 1065),\n",
       " (21, 1466)]"
      ]
     },
     "execution_count": 4,
     "metadata": {},
     "output_type": "execute_result"
    }
   ],
   "source": [
    "list(zip(*np.unique(kmeans.labels_, return_counts = True)))"
   ]
  },
  {
   "cell_type": "code",
   "execution_count": 5,
   "metadata": {},
   "outputs": [
    {
     "data": {
      "text/plain": [
       "(22, 26)"
      ]
     },
     "execution_count": 5,
     "metadata": {},
     "output_type": "execute_result"
    }
   ],
   "source": [
    "Xmeans = []\n",
    "for c in range(22):\n",
    "    Xclass = Xtrn[np.where(Ytrn == c)[0]]\n",
    "    Xmeans.append(Xclass.mean(0))\n",
    "\n",
    "Xmeans = np.array(Xmeans)\n",
    "Xmeans.shape"
   ]
  },
  {
   "cell_type": "code",
   "execution_count": 6,
   "metadata": {},
   "outputs": [],
   "source": [
    "from sklearn.decomposition import PCA\n",
    "\n",
    "pca_mean = PCA(2)\n",
    "Xmean_pca = pca_mean.fit_transform(Xmeans)\n",
    "cluster_pca = pca_mean.transform(kmeans.cluster_centers_)"
   ]
  },
  {
   "cell_type": "code",
   "execution_count": 23,
   "metadata": {
    "scrolled": true
   },
   "outputs": [
    {
     "data": {
      "image/png": "[encoded data removed]",
      "text/plain": [
       "<Figure size 432x288 with 1 Axes>"
      ]
     },
     "metadata": {
      "needs_background": "light"
     },
     "output_type": "display_data"
    }
   ],
   "source": [
    "import matplotlib.pyplot as plt\n",
    "import seaborn as sns\n",
    "\n",
    "\n",
    "\n",
    "for i in range(22):\n",
    "    plt.scatter(*Xmean_pca[i], label = f\"Language {i}\")\n",
    "    \n",
    "    plt.scatter(*cluster_pca[i], marker = \"x\", c=\"r\")\n",
    "    \n",
    "#plt.legend()"
   ]
  },
  {
   "cell_type": "code",
   "execution_count": 31,
   "metadata": {},
   "outputs": [
    {
     "ename": "SyntaxError",
     "evalue": "invalid syntax (<ipython-input-31-7a7c84c670c1>, line 1)",
     "output_type": "error",
     "traceback": [
      "\u001b[1;36m  File \u001b[1;32m\"<ipython-input-31-7a7c84c670c1>\"\u001b[1;36m, line \u001b[1;32m1\u001b[0m\n\u001b[1;33m    plt.scatter(Xmean_pca.transpose()[0], Xmean_pca.transpose()[1], c = \"red\", label = *range(22))\u001b[0m\n\u001b[1;37m                                                                                       ^\u001b[0m\n\u001b[1;31mSyntaxError\u001b[0m\u001b[1;31m:\u001b[0m invalid syntax\n"
     ]
    }
   ],
   "source": [
    "plt.scatter(Xmean_pca.transpose()[0], Xmean_pca.transpose()[1], c = \"red\", label = range(22))\n",
    "plt.scatter(cluster_pca.transpose()[0], cluster_pca.transpose()[1], c = \"blue\", marker = \"x\")\n",
    "\n",
    "plt.legend()"
   ]
  },
  {
   "cell_type": "code",
   "execution_count": 9,
   "metadata": {},
   "outputs": [],
   "source": [
    "from sklearn.mixture import GaussianMixture"
   ]
  },
  {
   "cell_type": "code",
   "execution_count": 10,
   "metadata": {},
   "outputs": [
    {
     "data": {
      "text/plain": [
       "((1001, 26), (103, 26))"
      ]
     },
     "execution_count": 10,
     "metadata": {},
     "output_type": "execute_result"
    }
   ],
   "source": [
    "l0_train = Xtrn[np.where(Ytrn == 0)[0]]\n",
    "l0_test = Xtst[np.where(Ytst == 0)[0]]\n",
    "\n",
    "l0_train.shape, l0_test.shape"
   ]
  },
  {
   "cell_type": "code",
   "execution_count": 11,
   "metadata": {},
   "outputs": [
    {
     "name": "stdout",
     "output_type": "stream",
     "text": [
      "Wall time: 643 ms\n"
     ]
    }
   ],
   "source": [
    "%%time\n",
    "\n",
    "diag_cov = []\n",
    "full_cov = []\n",
    "ks = (1, 3, 5, 10, 15)\n",
    "\n",
    "for k in ks:\n",
    "    diag_model = GaussianMixture(k, covariance_type = \"diag\")\n",
    "    full_model = GaussianMixture(k, covariance_type = \"full\")\n",
    "    \n",
    "    diag_model.fit(l0_train)\n",
    "    full_model.fit(l0_train)\n",
    "    \n",
    "    diag_cov.append((diag_model.score(l0_train), diag_model.score(l0_test)))\n",
    "    full_cov.append((full_model.score(l0_train), full_model.score(l0_test)))\n",
    "    \n",
    "diag_cov = np.array(diag_cov).transpose()\n",
    "full_cov = np.array(full_cov).transpose()"
   ]
  },
  {
   "cell_type": "code",
   "execution_count": 12,
   "metadata": {},
   "outputs": [
    {
     "data": {
      "text/plain": [
       "Text(0,0.5,'Per-sample average log-likelihood')"
      ]
     },
     "execution_count": 12,
     "metadata": {},
     "output_type": "execute_result"
    },
    {
     "data": {
      "image/png": "[encoded data removed]",
      "text/plain": [
       "<Figure size 432x288 with 1 Axes>"
      ]
     },
     "metadata": {
      "needs_background": "light"
     },
     "output_type": "display_data"
    }
   ],
   "source": [
    "plt.plot(ks, diag_cov[0], label = \"Diagonal Covariance, Train\")\n",
    "plt.plot(ks, diag_cov[1], label = \"Diagonal Covariance, Test\")\n",
    "\n",
    "plt.plot(ks, full_cov[0], label = \"Full Covariance, Train\")\n",
    "plt.plot(ks, full_cov[1], label = \"Full Covariance, Test\")\n",
    "\n",
    "plt.legend()\n",
    "plt.xlabel(\"Number of mixture components\")\n",
    "plt.ylabel(\"Per-sample average log-likelihood\")"
   ]
  },
  {
   "cell_type": "code",
   "execution_count": 13,
   "metadata": {},
   "outputs": [
    {
     "data": {
      "text/plain": [
       "(array([[14.2804, 15.3982, 15.9286, 16.9255, 17.5797],\n",
       "        [13.8429, 15.0419, 15.6267, 16.5904, 16.9847]]),\n",
       " array([[16.3936, 18.0503, 19.0339, 21.3091, 22.9043],\n",
       "        [15.8105, 16.9894, 16.7419, 14.3019, 11.9695]]))"
      ]
     },
     "execution_count": 13,
     "metadata": {},
     "output_type": "execute_result"
    }
   ],
   "source": [
    "np.round(diag_cov, 4), np.round(full_cov, 4), "
   ]
  },
  {
   "cell_type": "code",
   "execution_count": 14,
   "metadata": {},
   "outputs": [
    {
     "data": {
      "text/plain": [
       "array([[16.39360044, 18.05032791, 19.03387705, 21.30912242, 22.90430253],\n",
       "       [15.81051154, 16.98940223, 16.74192278, 14.30189913, 11.9694612 ]])"
      ]
     },
     "execution_count": 14,
     "metadata": {},
     "output_type": "execute_result"
    }
   ],
   "source": [
    "full_cov"
   ]
  },
  {
   "cell_type": "code",
   "execution_count": null,
   "metadata": {},
   "outputs": [],
   "source": []
  }
 ],
 "metadata": {
  "kernelspec": {
   "display_name": "Python 3",
   "language": "python",
   "name": "python3"
  },
  "language_info": {
   "codemirror_mode": {
    "name": "ipython",
    "version": 3
   },
   "file_extension": ".py",
   "mimetype": "text/x-python",
   "name": "python",
   "nbconvert_exporter": "python",
   "pygments_lexer": "ipython3",
   "version": "3.7.9"
  }
 },
 "nbformat": 4,
 "nbformat_minor": 4
}
