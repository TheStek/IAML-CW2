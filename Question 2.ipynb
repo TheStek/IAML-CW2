{
 "cells": [
  {
   "cell_type": "code",
   "execution_count": 1,
   "metadata": {},
   "outputs": [
    {
     "name": "stdout",
     "output_type": "stream",
     "text": [
      "Wall time: 1.74 s\n"
     ]
    }
   ],
   "source": [
    "%%time\n",
    "\n",
    "import numpy as np\n",
    "import pandas as pd\n",
    "import matplotlib.pyplot as plt\n",
    "\n",
    "import sys\n",
    "sys.path.append(\"../\")\n",
    "from helpers.iaml01cw2_helpers import load_FashionMNIST\n",
    "\n",
    "Xtrn, Ytrn, Xtst, Ytst = load_FashionMNIST(\"C:\\\\Users\\\\User\\\\Documents\\\\3. Third Year\\\\IAML\\\\IAML-CW2\\\\data\")\n",
    "\n",
    "Xtrn_orig = Xtrn.copy()\n",
    "Xtst_orig = Xtst.copy()\n",
    "\n",
    "Xtrn = Xtrn/255.0\n",
    "Xtst = Xtst/255.0\n",
    "\n",
    "Xmean = Xtrn.mean(0)\n",
    "\n",
    "Xtrn_nm = Xtrn - Xmean\n",
    "Xtst_nm = Xtst - Xmean"
   ]
  },
  {
   "cell_type": "code",
   "execution_count": 2,
   "metadata": {},
   "outputs": [
    {
     "name": "stderr",
     "output_type": "stream",
     "text": [
      "C:\\Users\\User\\anaconda3\\envs\\py3iaml\\lib\\site-packages\\sklearn\\utils\\__init__.py:4: DeprecationWarning: Using or importing the ABCs from 'collections' instead of from 'collections.abc' is deprecated since Python 3.3,and in 3.9 it will stop working\n",
      "  from collections import Sequence\n"
     ]
    }
   ],
   "source": [
    "from sklearn.linear_model import LogisticRegression\n",
    "from sklearn.metrics import confusion_matrix\n",
    "from sklearn.svm import SVC"
   ]
  },
  {
   "cell_type": "code",
   "execution_count": 3,
   "metadata": {},
   "outputs": [],
   "source": [
    "# %%time\n",
    "\n",
    "# lgr_model = LogisticRegression()\n",
    "# lgr_model.fit(Xtrn_nm, Ytrn)"
   ]
  },
  {
   "cell_type": "code",
   "execution_count": 4,
   "metadata": {},
   "outputs": [],
   "source": [
    "# %%time\n",
    "\n",
    "# lgr_pred = lgr_model.predict(Xtst_nm)\n",
    "# lgr_cm = confusion_matrix(Ytst, lgr_pred)\n",
    "\n",
    "# lgr_acc = np.trace(lgr_cm) / Ytst.shape[0]"
   ]
  },
  {
   "cell_type": "code",
   "execution_count": 5,
   "metadata": {},
   "outputs": [],
   "source": [
    "# %%time\n",
    "\n",
    "# svc_model = SVC()\n",
    "# svc_model.fit(Xtrn_nm, Ytrn)"
   ]
  },
  {
   "cell_type": "code",
   "execution_count": 6,
   "metadata": {},
   "outputs": [],
   "source": [
    "# %%time\n",
    "\n",
    "# svc_pred = svc_model.predict(Xtst_nm)\n",
    "# svc_cm = confusion_matrix(Ytst, svc_pred)\n",
    "\n",
    "# svc_acc = np.trace(svc_cm) / Ytst.shape[0]"
   ]
  },
  {
   "cell_type": "code",
   "execution_count": 7,
   "metadata": {},
   "outputs": [],
   "source": [
    "# lgr_cm, lgr_acc, svc_cm, svc_acc"
   ]
  },
  {
   "cell_type": "code",
   "execution_count": 8,
   "metadata": {},
   "outputs": [],
   "source": [
    "small_indices = np.array([])\n",
    "for c in range(10):\n",
    "    class_indices = np.where(Ytrn == c)[0][:1000]\n",
    "    small_indices = np.append(small_indices, class_indices).astype(\"int32\")"
   ]
  },
  {
   "cell_type": "code",
   "execution_count": 9,
   "metadata": {},
   "outputs": [],
   "source": [
    "Xsmall = Xtrn_nm[small_indices]\n",
    "Ysmall = Ytrn[small_indices]"
   ]
  },
  {
   "cell_type": "code",
   "execution_count": 10,
   "metadata": {},
   "outputs": [
    {
     "data": {
      "text/plain": [
       "((10000, 784), (10000,))"
      ]
     },
     "execution_count": 10,
     "metadata": {},
     "output_type": "execute_result"
    }
   ],
   "source": [
    "Xsmall.shape, Ysmall.shape"
   ]
  },
  {
   "cell_type": "code",
   "execution_count": 11,
   "metadata": {},
   "outputs": [
    {
     "data": {
      "text/plain": [
       "array([1.00000000e-02, 3.59381366e-02, 1.29154967e-01, 4.64158883e-01,\n",
       "       1.66810054e+00, 5.99484250e+00, 2.15443469e+01, 7.74263683e+01,\n",
       "       2.78255940e+02, 1.00000000e+03])"
      ]
     },
     "execution_count": 11,
     "metadata": {},
     "output_type": "execute_result"
    }
   ],
   "source": [
    "from sklearn.model_selection import KFold\n",
    "\n",
    "cvals = np.logspace(-2, 3, 10)\n",
    "cvals"
   ]
  },
  {
   "cell_type": "code",
   "execution_count": 12,
   "metadata": {},
   "outputs": [
    {
     "name": "stdout",
     "output_type": "stream",
     "text": [
      "Wall time: 19min 2s\n"
     ]
    }
   ],
   "source": [
    "%%time\n",
    "\n",
    "kfold = KFold(3, True, 1)\n",
    "cmeans = []\n",
    "\n",
    "\n",
    "for c in cvals:\n",
    "    acc_sum = 0\n",
    "    for train, test in kfold.split(Xsmall, Ysmall):\n",
    "        model = SVC(C = c, kernel = \"rbf\", gamma = \"auto\")\n",
    "        model.fit(Xsmall[train], Ysmall[train])\n",
    "        acc_sum += model.score(Xsmall[test], Ysmall[test])\n",
    "    cmeans.append(acc_sum/3)"
   ]
  },
  {
   "cell_type": "code",
   "execution_count": 13,
   "metadata": {
    "scrolled": true
   },
   "outputs": [
    {
     "data": {
      "text/plain": [
       "Text(0,0.5,'Mean Classification Accuracy')"
      ]
     },
     "execution_count": 13,
     "metadata": {},
     "output_type": "execute_result"
    },
    {
     "data": {
      "image/png": "[encoded data removed]",
      "text/plain": [
       "<Figure size 432x288 with 1 Axes>"
      ]
     },
     "metadata": {
      "needs_background": "light"
     },
     "output_type": "display_data"
    }
   ],
   "source": [
    "plt.plot(cvals, cmeans)\n",
    "plt.xscale(\"log\")\n",
    "plt.xlabel(\"C\")\n",
    "plt.ylabel(\"Mean Classification Accuracy\")"
   ]
  },
  {
   "cell_type": "code",
   "execution_count": 16,
   "metadata": {},
   "outputs": [
    {
     "data": {
      "text/plain": [
       "(0.8559008270353129, 77.42636826811278)"
      ]
     },
     "execution_count": 16,
     "metadata": {},
     "output_type": "execute_result"
    }
   ],
   "source": [
    "maxC_index = np.argmax(cmeans)\n",
    "maxC_value = cvals[maxC_index]\n",
    "cmeans[maxC_index], maxC_value"
   ]
  },
  {
   "cell_type": "code",
   "execution_count": 17,
   "metadata": {},
   "outputs": [
    {
     "name": "stdout",
     "output_type": "stream",
     "text": [
      "0.9831\n",
      "0.8845\n"
     ]
    }
   ],
   "source": [
    "optimal_model = SVC(C = maxC_value)\n",
    "model.fit(Xtrn_nm, Ytrn)\n",
    "print(model.score(Xtrn_nm, Ytrn))\n",
    "print(model.score(Xtst_nm, Ytst))"
   ]
  },
  {
   "cell_type": "code",
   "execution_count": null,
   "metadata": {},
   "outputs": [],
   "source": []
  }
 ],
 "metadata": {
  "kernelspec": {
   "display_name": "Python 3",
   "language": "python",
   "name": "python3"
  },
  "language_info": {
   "codemirror_mode": {
    "name": "ipython",
    "version": 3
   },
   "file_extension": ".py",
   "mimetype": "text/x-python",
   "name": "python",
   "nbconvert_exporter": "python",
   "pygments_lexer": "ipython3",
   "version": "3.7.9"
  }
 },
 "nbformat": 4,
 "nbformat_minor": 4
}
