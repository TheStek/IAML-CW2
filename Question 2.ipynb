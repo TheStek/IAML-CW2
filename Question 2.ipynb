{
 "cells": [
  {
   "cell_type": "code",
   "execution_count": 1,
   "metadata": {},
   "outputs": [
    {
     "name": "stdout",
     "output_type": "stream",
     "text": [
      "Wall time: 1.75 s\n"
     ]
    }
   ],
   "source": [
    "%%time\n",
    "\n",
    "import numpy as np\n",
    "import pandas as pd\n",
    "import matplotlib.pyplot as plt\n",
    "\n",
    "import sys\n",
    "sys.path.append(\"../\")\n",
    "from helpers.iaml01cw2_helpers import load_FashionMNIST\n",
    "\n",
    "Xtrn, Ytrn, Xtst, Ytst = load_FashionMNIST(\"C:\\\\Users\\\\User\\\\Documents\\\\3. Third Year\\\\IAML\\\\IAML-CW2\\\\data\")\n",
    "\n",
    "Xtrn_orig = Xtrn.copy()\n",
    "Xtst_orig = Xtst.copy()\n",
    "\n",
    "Xtrn = Xtrn/255.0\n",
    "Xtst = Xtst/255.0\n",
    "\n",
    "Xmean = Xtrn.mean(0)\n",
    "\n",
    "Xtrn_nm = Xtrn - Xmean\n",
    "Xtst_nm = Xtst - Xmean"
   ]
  },
  {
   "cell_type": "code",
   "execution_count": 2,
   "metadata": {},
   "outputs": [
    {
     "name": "stderr",
     "output_type": "stream",
     "text": [
      "C:\\Users\\User\\anaconda3\\envs\\py3iaml\\lib\\site-packages\\sklearn\\utils\\__init__.py:4: DeprecationWarning: Using or importing the ABCs from 'collections' instead of from 'collections.abc' is deprecated since Python 3.3,and in 3.9 it will stop working\n",
      "  from collections import Sequence\n"
     ]
    }
   ],
   "source": [
    "from sklearn.linear_model import LogisticRegression\n",
    "from sklearn.metrics import confusion_matrix"
   ]
  },
  {
   "cell_type": "code",
   "execution_count": 3,
   "metadata": {},
   "outputs": [
    {
     "name": "stdout",
     "output_type": "stream",
     "text": [
      "Wall time: 5min 17s\n"
     ]
    },
    {
     "data": {
      "text/plain": [
       "LogisticRegression(C=1.0, class_weight=None, dual=False, fit_intercept=True,\n",
       "          intercept_scaling=1, max_iter=100, multi_class='ovr', n_jobs=1,\n",
       "          penalty='l2', random_state=None, solver='liblinear', tol=0.0001,\n",
       "          verbose=0, warm_start=False)"
      ]
     },
     "execution_count": 3,
     "metadata": {},
     "output_type": "execute_result"
    }
   ],
   "source": [
    "%%time\n",
    "\n",
    "lgr_model = LogisticRegression()\n",
    "lgr_model.fit(Xtrn_nm, Ytrn)"
   ]
  },
  {
   "cell_type": "code",
   "execution_count": 4,
   "metadata": {},
   "outputs": [
    {
     "name": "stdout",
     "output_type": "stream",
     "text": [
      "Wall time: 51.9 ms\n"
     ]
    }
   ],
   "source": [
    "%%time\n",
    "\n",
    "lgr_pred = lgr_model.predict(Xtst_nm)\n",
    "lgr_cm = confusion_matrix(Ytst, lgr_pred)\n",
    "\n",
    "lgr_acc = np.trace(lgr_cm) / Ytst.shape[0]"
   ]
  },
  {
   "cell_type": "code",
   "execution_count": 5,
   "metadata": {},
   "outputs": [
    {
     "name": "stdout",
     "output_type": "stream",
     "text": [
      "Wall time: 13min 20s\n"
     ]
    },
    {
     "data": {
      "text/plain": [
       "SVC(C=1.0, cache_size=200, class_weight=None, coef0=0.0,\n",
       "  decision_function_shape='ovr', degree=3, gamma='auto', kernel='rbf',\n",
       "  max_iter=-1, probability=False, random_state=None, shrinking=True,\n",
       "  tol=0.001, verbose=False)"
      ]
     },
     "execution_count": 5,
     "metadata": {},
     "output_type": "execute_result"
    }
   ],
   "source": [
    "%%time\n",
    "from sklearn.svm import SVC\n",
    "\n",
    "svc_model = SVC()\n",
    "svc_model.fit(Xtrn_nm, Ytrn)"
   ]
  },
  {
   "cell_type": "code",
   "execution_count": 6,
   "metadata": {},
   "outputs": [
    {
     "name": "stdout",
     "output_type": "stream",
     "text": [
      "Wall time: 4min 31s\n"
     ]
    }
   ],
   "source": [
    "%%time\n",
    "\n",
    "svc_pred = svc_model.predict(Xtst_nm)\n",
    "svc_cm = confusion_matrix(Ytst, svc_pred)\n",
    "\n",
    "svc_acc = np.trace(svc_cm) / Ytst.shape[0]"
   ]
  },
  {
   "cell_type": "code",
   "execution_count": 7,
   "metadata": {},
   "outputs": [
    {
     "data": {
      "text/plain": [
       "(array([[819,   3,  15,  50,   7,   4,  90,   1,  11,   0],\n",
       "        [  5, 953,   4,  27,   5,   0,   3,   1,   2,   0],\n",
       "        [ 27,   4, 731,  11, 133,   0,  82,   2,   9,   1],\n",
       "        [ 31,  15,  14, 866,  33,   0,  37,   0,   4,   0],\n",
       "        [  0,   3, 115,  38, 760,   2,  72,   0,  10,   0],\n",
       "        [  2,   0,   0,   1,   0, 911,   0,  56,  10,  20],\n",
       "        [147,   3, 128,  46, 108,   0, 539,   0,  28,   1],\n",
       "        [  0,   0,   0,   0,   0,  32,   0, 936,   1,  31],\n",
       "        [  7,   1,   6,  11,   3,   7,  15,   5, 945,   0],\n",
       "        [  0,   0,   0,   1,   0,  15,   1,  42,   0, 941]], dtype=int64),\n",
       " 0.8401,\n",
       " array([[845,   2,   8,  51,   4,   4,  72,   0,  14,   0],\n",
       "        [  4, 951,   7,  31,   5,   0,   1,   0,   1,   0],\n",
       "        [ 15,   2, 748,  11, 137,   0,  79,   0,   8,   0],\n",
       "        [ 32,   6,  12, 881,  26,   0,  40,   0,   3,   0],\n",
       "        [  1,   0,  98,  36, 775,   0,  86,   0,   4,   0],\n",
       "        [  0,   0,   0,   1,   0, 914,   0,  57,   2,  26],\n",
       "        [185,   1, 122,  39,  95,   0, 533,   0,  25,   0],\n",
       "        [  0,   0,   0,   0,   0,  34,   0, 925,   0,  41],\n",
       "        [  3,   1,   8,   5,   2,   4,  13,   4, 959,   1],\n",
       "        [  0,   0,   0,   0,   0,  22,   0,  47,   1, 930]], dtype=int64),\n",
       " 0.8461)"
      ]
     },
     "execution_count": 7,
     "metadata": {},
     "output_type": "execute_result"
    }
   ],
   "source": [
    "lgr_cm, lgr_acc, svc_cm, svc_acc"
   ]
  },
  {
   "cell_type": "raw",
   "metadata": {},
   "source": []
  }
 ],
 "metadata": {
  "kernelspec": {
   "display_name": "Python 3",
   "language": "python",
   "name": "python3"
  },
  "language_info": {
   "codemirror_mode": {
    "name": "ipython",
    "version": 3
   },
   "file_extension": ".py",
   "mimetype": "text/x-python",
   "name": "python",
   "nbconvert_exporter": "python",
   "pygments_lexer": "ipython3",
   "version": "3.7.9"
  }
 },
 "nbformat": 4,
 "nbformat_minor": 4
}
